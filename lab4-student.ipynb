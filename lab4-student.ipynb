{
 "cells": [
  {
   "cell_type": "markdown",
   "metadata": {
    "id": "860PFaEBIk3H"
   },
   "source": [
    "# LAB4 - TensorFlow Lite\n",
    "ver: 3"
   ]
  },
  {
   "cell_type": "markdown",
   "metadata": {
    "id": "sSP0m_ZGIi5I"
   },
   "source": [
    "Przedmiot: _Sztuczna Inteligencja w Systemach Informatycznych_\n",
    "\n",
    "Autor: Tomasz Szydło\n",
    "\n",
    "kontakt: tszydlo@agh.edu.pl\n"
   ]
  },
  {
   "cell_type": "markdown",
   "metadata": {
    "id": "pNIkZMJIIceS"
   },
   "source": [
    "## Wprowadzenie\n",
    "\n",
    "Celem zajęć jest analiza działania konwersji sieci neuronowych do postaci możliwej do uruchomienia na urządzeniach o ograniczonych zasobach. W czasie zajęć będzie wykorzystywany zbiór Fashion MNIST, który zawiera 60000 obrazków w 10 kategoriach:\n",
    "\n",
    "https://github.com/zalandoresearch/fashion-mnist\n",
    "\n",
    "\n",
    "https://www.tensorflow.org/datasets/catalog/fashion_mnist\n",
    "\n",
    "\n",
    "### Środowisko pracy - Google Codelab\n",
    "\n",
    "https://codelabs.developers.google.com/?cat=Machine+Learning\n",
    "\n"
   ]
  },
  {
   "cell_type": "code",
   "execution_count": null,
   "metadata": {
    "id": "pffqMCSFKRq6"
   },
   "outputs": [],
   "source": [
    "try:\n",
    "  %tensorflow_version 2.x\n",
    "except:\n",
    "  pass"
   ]
  },
  {
   "cell_type": "code",
   "execution_count": null,
   "metadata": {
    "id": "hOEVEJ4eKU85"
   },
   "outputs": [],
   "source": [
    "import tensorflow as tf\n",
    "from tensorflow.keras.datasets import mnist, fashion_mnist\n",
    "from tensorflow.keras.models import Sequential\n",
    "from tensorflow.keras.layers import Dense, Dropout, Activation, Flatten, Conv2D, AveragePooling2D, MaxPooling2D\n",
    "\n",
    "from keras.utils import np_utils\n",
    "\n",
    "import numpy as np\n",
    "import matplotlib.pyplot as plt\n",
    "import pathlib\n",
    "\n",
    "import time\n",
    "\n",
    "print(tf.__version__)"
   ]
  },
  {
   "cell_type": "markdown",
   "metadata": {
    "id": "1fCavbBCMtQ9"
   },
   "source": [
    "Przygotuj zbiór testowy. Zbiór fashion_mnist nie posiada słownych opisów klas."
   ]
  },
  {
   "cell_type": "code",
   "execution_count": null,
   "metadata": {
    "id": "SDtjTnnKai7G"
   },
   "outputs": [],
   "source": [
    "nb_classes = 10\n",
    "class_names = ['T-shirt_top', 'Trouser', 'Pullover', 'Dress', 'Coat',\n",
    "               'Sandal', 'Shirt', 'Sneaker', 'Bag', 'Ankle boot']\n",
    "\n",
    "#(X_train, y_train), (X_test, y_test) = mnist.load_data()\n",
    "(X_train, y_train), (X_test, y_test) = fashion_mnist.load_data()\n",
    "print(\"X_train original shape\", X_train.shape)\n",
    "print(\"y_train original shape\", y_train.shape)"
   ]
  },
  {
   "cell_type": "markdown",
   "metadata": {
    "id": "gJDe17SdCn6R"
   },
   "source": [
    "Wypisz ilość elementów w zbiorze uczącym i testowym.\n",
    "\n",
    "\n",
    "\n"
   ]
  },
  {
   "cell_type": "code",
   "execution_count": null,
   "metadata": {
    "id": "eAcGemlGbuUG"
   },
   "outputs": [],
   "source": [
    "print(X_test)\n",
    "print(X_train)\n",
    "\n",
    "print(len(list(X_test)))\n",
    "print(len(list(X_train)))"
   ]
  },
  {
   "cell_type": "markdown",
   "metadata": {
    "id": "ZnhPDvc8DCcr"
   },
   "source": [
    "**TODO** Zmień poniższy kod tak by wyświetlić 10 przykładowych obrazków - po jednym z każdej klasy."
   ]
  },
  {
   "cell_type": "code",
   "execution_count": null,
   "metadata": {
    "colab": {
     "base_uri": "https://localhost:8080/",
     "height": 281
    },
    "id": "G6DBqmkEcKKL",
    "outputId": "96fb00d8-3a41-4913-986c-8595acdf5cab"
   },
   "outputs": [
    {
     "data": {
      "image/png": "[encoded data removed]",
      "text/plain": [
       "<Figure size 432x288 with 9 Axes>"
      ]
     },
     "metadata": {
      "needs_background": "light",
      "tags": []
     },
     "output_type": "display_data"
    }
   ],
   "source": [
    "for i in range(9):\n",
    "    plt.subplot(3,3,i+1)\n",
    "    plt.imshow(X_test[i], cmap='gray', interpolation='none')\n",
    "    plt.title(\"{}\".format(class_names[y_test[i]]))"
   ]
  },
  {
   "cell_type": "markdown",
   "metadata": {
    "id": "VMjUbt92c1hL"
   },
   "source": [
    "Sieć neuronowa przyjmuje na wejściu obrazek z jednym kanałem - poziomem jasności, więc konieczne jest przekształcenie danych wejściowych, aby każdy obraz 28 x 28 stał się macierzą 28 x 28 x 1. \n",
    "\n",
    "Skalujemy również dane wejściowe w zakresie [0–1] zamiast [0–255]"
   ]
  },
  {
   "cell_type": "code",
   "execution_count": null,
   "metadata": {
    "id": "eBEvZU9gdFfU"
   },
   "outputs": [],
   "source": [
    "X_train = X_train.reshape(60000, 28,28,1)\n",
    "X_test = X_test.reshape(10000, 28,28,1)\n",
    "X_train = X_train.astype('float32')\n",
    "X_test = X_test.astype('float32')\n",
    "X_train /= 255\n",
    "X_test /= 255\n",
    "print(\"Training matrix shape\", X_train.shape)\n",
    "print(\"Testing matrix shape\", X_test.shape)\n",
    "\n",
    "print(nb_classes)"
   ]
  },
  {
   "cell_type": "markdown",
   "metadata": {
    "id": "-tJKBV4LdMm7"
   },
   "source": [
    "Zmodyfikuj macierze wyjść korzystając z techniki One Hot Encoding, tj.\n",
    "\n",
    "```\n",
    "0 -> [1, 0, 0, 0, 0, 0, 0, 0, 0]\n",
    "1 -> [0, 1, 0, 0, 0, 0, 0, 0, 0]\n",
    "2 -> [0, 0, 1, 0, 0, 0, 0, 0, 0]\n",
    "```\n",
    "itp."
   ]
  },
  {
   "cell_type": "code",
   "execution_count": null,
   "metadata": {
    "id": "YeyLgauzdLUC"
   },
   "outputs": [],
   "source": [
    "Y_train = np_utils.to_categorical(#TODO)\n",
    "Y_test = np_utils.to_categorical(#TODO)"
   ]
  },
  {
   "cell_type": "markdown",
   "metadata": {
    "id": "0MBVlQSBDhd3"
   },
   "source": [
    "Wielowarstwowa sieć konwolucyjna do klasyfikacji ubrań."
   ]
  },
  {
   "cell_type": "code",
   "execution_count": null,
   "metadata": {
    "id": "JenWFnRJPyI6"
   },
   "outputs": [],
   "source": [
    "model = Sequential([\n",
    "  Conv2D(16, 3, activation='relu', input_shape=(28, 28, 1)),\n",
    "  MaxPooling2D(),\n",
    "  Conv2D(32, 3, activation='relu'),\n",
    "  Flatten(),\n",
    "  Dense(64, activation='relu'),\n",
    "  Dense(10, activation='softmax')\n",
    "])\n",
    "\n",
    "model.compile(optimizer='adam', loss='categorical_crossentropy', metrics=['accuracy'])"
   ]
  },
  {
   "cell_type": "code",
   "execution_count": null,
   "metadata": {
    "id": "iSxRrxYK6pUU"
   },
   "outputs": [],
   "source": [
    "model.summary()"
   ]
  },
  {
   "cell_type": "markdown",
   "metadata": {
    "id": "7CKJgoMcDrFv"
   },
   "source": [
    "W celu skrócenia czasu uczenia sieci wskazane jest użycie GPU."
   ]
  },
  {
   "cell_type": "code",
   "execution_count": null,
   "metadata": {
    "id": "Xo3UTs-Hd8L0"
   },
   "outputs": [],
   "source": [
    "model.fit(X_train, Y_train,\n",
    "          batch_size=32, epochs=10,\n",
    "          verbose=1,\n",
    "          validation_data=(X_test, Y_test))"
   ]
  },
  {
   "cell_type": "markdown",
   "metadata": {
    "id": "VUF-tZzKG_5r"
   },
   "source": [
    "# Zapisywanie NN\n",
    "\n",
    "Szczegółowe informacje dotyczące zapisywania modeli TensorFlow dostępne pod linkiem:\n",
    "\n",
    "https://www.tensorflow.org/tutorials/keras/save_and_load"
   ]
  },
  {
   "cell_type": "code",
   "execution_count": null,
   "metadata": {
    "id": "_XXAwJIjR-eF"
   },
   "outputs": [],
   "source": [
    "export_dir = 'saved_model'\n",
    "model.save(export_dir)"
   ]
  },
  {
   "cell_type": "markdown",
   "metadata": {
    "id": "2Qc03BzFZkOL"
   },
   "source": [
    "Po zapisaniu modelu należy kliknąć \"Refresh\" po lewej stronie w zakładce \"Files\". W katalogu \"saved_model\" znajduje się zapisany model."
   ]
  },
  {
   "cell_type": "markdown",
   "metadata": {
    "id": "2ikJea6vRj4o"
   },
   "source": [
    "# Export do TFLite\n",
    "\n",
    "Narzędzie `TFLiteConverter` zostanie wykorzystane do konwersji modelu NN do formatu akceptowanego przez TFLite tzn. `flat protocol buffers`.\n",
    "\n",
    "https://www.tensorflow.org/lite/guide/get_started#2_convert_the_model_format\n",
    "\n",
    "Wygenerowany model `\"model-base.tflite\"` operuje na wagach typu `float32`."
   ]
  },
  {
   "cell_type": "code",
   "execution_count": null,
   "metadata": {
    "id": "IWcRPnrS5NxX"
   },
   "outputs": [],
   "source": [
    "  converter = tf.lite.TFLiteConverter.from_saved_model(export_dir)\n",
    "  tflite_model = converter.convert()\n",
    "\n",
    "  with open(\"model-base.tflite\", \"wb\") as f:\n",
    "    f.write(tflite_model)  \n"
   ]
  },
  {
   "cell_type": "markdown",
   "metadata": {
    "id": "yxUdslmYapId"
   },
   "source": [
    "Po zapisaniu modelu należy kliknąć \"Refresh\" po lewej stronie w zakładce \"Files\". "
   ]
  },
  {
   "cell_type": "markdown",
   "metadata": {
    "id": "RAw9StfeGxB3"
   },
   "source": [
    "Kolejnym krokiem jest kwantyzacja wag modelu z 32 bitowych liczb rzeczywistych do liczb 8 bitowych. Proces kwantyzacji jest uruchamiany na gotowym, wyuczonym modelu. Należy wybrać profil optymaliacji `tf.lite.Optimize.DEFAULT`.\n",
    "\n"
   ]
  },
  {
   "cell_type": "code",
   "execution_count": null,
   "metadata": {
    "id": "cimp2vhU51dZ"
   },
   "outputs": [],
   "source": [
    "  converter = tf.lite.TFLiteConverter.from_saved_model(export_dir)\n",
    "  \n",
    "  #TODO ustaw odpowiedni rodzaj optymalizacji sieci neuronowej\n",
    "\n",
    "  tflite_model = converter.convert()\n",
    "\n",
    "  with open(\"model-quant.tflite\", \"wb\") as f:\n",
    "    f.write(tflite_model)  \n"
   ]
  },
  {
   "cell_type": "markdown",
   "metadata": {
    "id": "Qr9DQgrKHi_B"
   },
   "source": [
    "Po zapisaniu modelu należy kliknąć \"Refresh\" po lewej stronie w zakładce \"Files\"."
   ]
  },
  {
   "cell_type": "code",
   "execution_count": null,
   "metadata": {
    "id": "ZUcelAwJ5NU7"
   },
   "outputs": [],
   "source": [
    "# funkcja testujaca model z wykorzystaniem interpretera TFLite\n",
    "# TODO zmodyfikuj funkcje tak by zwracala (accuracy, latency)\n",
    "\n",
    "def test_model_accuracy(tflite_model):\n",
    "  # Load TFLite model and allocate tensors.\n",
    "  interpreter = tf.lite.Interpreter(model_path=tflite_model)\n",
    "  interpreter.allocate_tensors()\n",
    "\n",
    "  input_index = interpreter.get_input_details()[0][\"index\"]\n",
    "  output_index = interpreter.get_output_details()[0][\"index\"]\n",
    "\n",
    "  for img, label in zip(X_test, y_test):\n",
    "    interpreter.set_tensor(input_index, [img])\n",
    "\n",
    "    interpreter.invoke()\n",
    "\n",
    "    prediction = interpreter.get_tensor(output_index)\n",
    "    label_is = np.argmax(prediction, axis=-1)[0]\n",
    "    label_should_be = label\n",
    "\n",
    "    print(\"Label is {} should be {}.\".format(label_is, label_should_be))\n",
    "\n",
    "  return (0,0) #(accuracy, latency)\n"
   ]
  },
  {
   "cell_type": "code",
   "execution_count": null,
   "metadata": {
    "id": "_tHC8pGhT0_N"
   },
   "outputs": [],
   "source": [
    "#TODO tylko na potrzeby testowania - do usuniecia\n",
    "print(test_model_accuracy(\"model-base.tflite\"))\n",
    "\n",
    "#TODO tylko na potrzeby testowania - do usuniecia\n",
    "print(test_model_accuracy(\"model-quant.tflite\"))\n"
   ]
  },
  {
   "cell_type": "code",
   "execution_count": null,
   "metadata": {
    "id": "9SshGHd36A9a"
   },
   "outputs": [],
   "source": [
    "# porównaj dokladnosc wynikowych modeli TFLite\n",
    "\n",
    "# TODO wyniki przedstaw na wykresie słupkowym (jeden slupek dla model-base, a drugi dla model-quant)\n"
   ]
  },
  {
   "cell_type": "code",
   "execution_count": null,
   "metadata": {
    "id": "sZ9FYFBnIBaY"
   },
   "outputs": [],
   "source": [
    "# porównaj rozmiar wynikowych modeli TFLite\n",
    "\n",
    "# TODO wyniki przedstaw na wykresie słupkowym (jeden slupek dla model-base, a drugi dla model-quant)"
   ]
  },
  {
   "cell_type": "code",
   "execution_count": null,
   "metadata": {
    "id": "ymoU1RNc6D5m"
   },
   "outputs": [],
   "source": [
    "# porównaj czas dzialania wynikowych modeli TFLite\n",
    "\n",
    "# TODO wyniki przedstaw na wykresie słupkowym (jeden slupek dla model-base, a drugi dla model-quant)"
   ]
  },
  {
   "cell_type": "markdown",
   "metadata": {
    "id": "5fCWZL6YuiDh"
   },
   "source": [
    " # Wnioski\n",
    "\n",
    "**TODO** przedstaw wnioski z przeprowadzonych eksperymentów\n",
    "**TODO** dlaczego czasy działania modeli są różne?"
   ]
  }
 ],
 "metadata": {
  "accelerator": "GPU",
  "colab": {
   "collapsed_sections": [],
   "name": "lab4_v3-student.ipynb",
   "provenance": [],
   "toc_visible": true
  },
  "kernelspec": {
   "display_name": "Python 3 (ipykernel)",
   "language": "python",
   "name": "python3"
  },
  "language_info": {
   "codemirror_mode": {
    "name": "ipython",
    "version": 3
   },
   "file_extension": ".py",
   "mimetype": "text/x-python",
   "name": "python",
   "nbconvert_exporter": "python",
   "pygments_lexer": "ipython3",
   "version": "3.9.7"
  }
 },
 "nbformat": 4,
 "nbformat_minor": 1
}
