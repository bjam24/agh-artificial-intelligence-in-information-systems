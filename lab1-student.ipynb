{
 "cells": [
  {
   "cell_type": "markdown",
   "metadata": {},
   "source": [
    "# LAB1 - Regresja"
   ]
  },
  {
   "cell_type": "markdown",
   "metadata": {},
   "source": [
    "Przedmiot: _Sztuczna Inteligencja w Systemach Informatycznych_\n",
    "\n",
    "Autor: Tomasz Szydło\n",
    "\n",
    "kontakt: tszydlo@agh.edu.pl\n"
   ]
  },
  {
   "cell_type": "markdown",
   "metadata": {},
   "source": [
    "_wersja dokumentu uzupełniana przez studenta_"
   ]
  },
  {
   "cell_type": "markdown",
   "metadata": {},
   "source": [
    "# Wprowadzenie\n",
    "\n",
    "Regresja liniowa w modelowaniu statystycznym odnosi się do metod opartych o liniowe kombinacje zmiennych i parametrów dopasowujących model do danych. Dopasowana linia lub krzywa regresji reprezentuje oszacowaną wartość oczekiwaną zmiennej y przy konkretnych wartościach innej zmiennej lub zmiennych x. W najprostszym przypadku dopasowana jest stała lub funkcja liniowa.\n",
    "\n",
    "Celem zajęć jest identyfikacja modelu regresji dla problemu czasu obliczeń złożonych operacji matematycznych na CPU. Czas obliczeń zależy głównie od mocy obliczeniowej procesora.\n",
    "\n",
    "Środowisko pracy: Anaconda, Jupyter Notebook\n",
    "\n",
    "Narzędzia: Scikit Learn, Python"
   ]
  },
  {
   "cell_type": "markdown",
   "metadata": {},
   "source": [
    "# Regresja - przykład\n",
    "\n",
    "Sposób identyfikacji modelu regresji z wykorzystaniem narzędzi programistycznych przedstawia przykład dla danych dotyczacych cukrzycy:\n",
    "\n",
    "https://archive.ics.uci.edu/ml/datasets/diabetes\n",
    "\n",
    "```\n",
    "Source:\n",
    "\n",
    "Michael Kahn, MD, PhD, Washington University, St. Louis, MO\n",
    "\n",
    "Data Set Information:\n",
    "\n",
    "Diabetes patient records were obtained from two sources: an automatic electronic recording device and paper records. The automatic device had an internal clock to timestamp events, whereas the paper records only provided \"logical time\" slots (breakfast, lunch, dinner, bedtime). For paper records, fixed times were assigned to breakfast (08:00), lunch (12:00), dinner (18:00), and bedtime (22:00). Thus paper records have fictitious uniform recording times whereas electronic records have more realistic time stamps.\n",
    "\n",
    "Diabetes files consist of four fields per record. Each field is separated by a tab and each record is separated by a newline.\n",
    "\n",
    "File Names and format:\n",
    " * (1) Date in MM-DD-YYYY format\n",
    " * (2) Time in XX:YY format\n",
    " * (3) Code\n",
    " * (4) Value\n",
    "\n",
    "\n",
    "The Code field is deciphered as follows:\n",
    " * 33 = Regular insulin dose\n",
    " * 34 = NPH insulin dose\n",
    " * 35 = UltraLente insulin dose\n",
    " * 48 = Unspecified blood glucose measurement\n",
    " * 57 = Unspecified blood glucose measurement\n",
    " * 58 = Pre-breakfast blood glucose measurement\n",
    " * 59 = Post-breakfast blood glucose measurement\n",
    " * 60 = Pre-lunch blood glucose measurement\n",
    " * 61 = Post-lunch blood glucose measurement\n",
    " * 62 = Pre-supper blood glucose measurement\n",
    " * 63 = Post-supper blood glucose measurement\n",
    " * 64 = Pre-snack blood glucose measurement\n",
    " * 65 = Hypoglycemic symptoms\n",
    " * 66 = Typical meal ingestion\n",
    " * 67 = More-than-usual meal ingestion\n",
    " * 68 = Less-than-usual meal ingestion\n",
    " * 69 = Typical exercise activity\n",
    " * 70 = More-than-usual exercise activity\n",
    " * 71 = Less-than-usual exercise activity\n",
    " * 72 = Unspecified special event\n",
    "```\n",
    "\n",
    "W przykładzie zastosowano pierwszą cechę zestawu danych dotyczących cukrzycy, aby zilustrować metodę regresji. Końcowy wykres zawierał będzie zarówno dane źródłowe jak i wykres funkcji liniowej zidentyfikowanej za pomocą regresji. Funkcja liniowa przedstawia zależność pomiędzy danymi wejściowymi a wyjściowymi minimalizując sumę kwadratów pomiędzy poszczególnymi parami punktów.\n",
    "\n",
    "\n",
    "Obliczane są również współczynniki oraz błąd modelu."
   ]
  },
  {
   "cell_type": "code",
   "execution_count": 1,
   "metadata": {},
   "outputs": [],
   "source": [
    "import matplotlib.pyplot as plt\n",
    "import numpy as np\n",
    "from sklearn import datasets, linear_model\n",
    "from sklearn.metrics import mean_squared_error, r2_score"
   ]
  },
  {
   "cell_type": "code",
   "execution_count": 2,
   "metadata": {},
   "outputs": [],
   "source": [
    "# Load the diabetes dataset\n",
    "diabetes = datasets.load_diabetes()"
   ]
  },
  {
   "cell_type": "code",
   "execution_count": 3,
   "metadata": {},
   "outputs": [],
   "source": [
    "# Use only one feature\n",
    "diabetes_X = diabetes.data[:, np.newaxis, 2]\n",
    "\n",
    "# Split the data into training/testing sets\n",
    "diabetes_X_train = diabetes_X[:-20]\n",
    "diabetes_X_test = diabetes_X[-20:]\n",
    "\n",
    "# Split the targets into training/testing sets\n",
    "diabetes_y_train = diabetes.target[:-20]\n",
    "diabetes_y_test = diabetes.target[-20:]"
   ]
  },
  {
   "cell_type": "code",
   "execution_count": 4,
   "metadata": {},
   "outputs": [
    {
     "data": {
      "text/plain": [
       "LinearRegression()"
      ]
     },
     "execution_count": 4,
     "metadata": {},
     "output_type": "execute_result"
    }
   ],
   "source": [
    "# Create linear regression object\n",
    "regr = linear_model.LinearRegression()\n",
    "\n",
    "# Train the model using the training sets\n",
    "regr.fit(diabetes_X_train, diabetes_y_train)\n"
   ]
  },
  {
   "cell_type": "code",
   "execution_count": 5,
   "metadata": {},
   "outputs": [
    {
     "name": "stdout",
     "output_type": "stream",
     "text": [
      "Coefficients: \n",
      " [938.23786125]\n",
      "Intercept: \n",
      " 152.91886182616167\n",
      "Mean squared error: 2548.07\n",
      "Variance score: 0.47\n"
     ]
    }
   ],
   "source": [
    "# Make predictions using the testing set\n",
    "diabetes_y_pred = regr.predict(diabetes_X_test)\n",
    "\n",
    "# The coefficients\n",
    "print('Coefficients: \\n', regr.coef_)\n",
    "print('Intercept: \\n', regr.intercept_)\n",
    "# The mean squared error\n",
    "print(\"Mean squared error: %.2f\"\n",
    "      % mean_squared_error(diabetes_y_test, diabetes_y_pred))\n",
    "# Explained variance score: 1 is perfect prediction\n",
    "print('Variance score: %.2f' % r2_score(diabetes_y_test, diabetes_y_pred))"
   ]
  },
  {
   "cell_type": "code",
   "execution_count": 6,
   "metadata": {},
   "outputs": [
    {
     "data": {
      "image/png": "[encoded data removed]",
      "text/plain": [
       "<Figure size 432x288 with 1 Axes>"
      ]
     },
     "metadata": {
      "needs_background": "light"
     },
     "output_type": "display_data"
    }
   ],
   "source": [
    "# Plot outputs\n",
    "plt.scatter(diabetes_X_test, diabetes_y_test,  color='black')\n",
    "plt.plot(diabetes_X_test, diabetes_y_pred, color='blue', linewidth=3)\n",
    "\n",
    "#plt.xticks(())\n",
    "#plt.yticks(())\n",
    "\n",
    "plt.show()"
   ]
  },
  {
   "cell_type": "markdown",
   "metadata": {},
   "source": [
    "## Regresja - przewidywanie czasu wykonania operacji\n",
    "\n",
    "W systemie komputerowym istnieją dwa procesy obliczeniowe: io\\_heavy oraz cpu\\_heavy charakteryzujące się tym, że w pierszym przypadku czas wykonania jest głównie zależny od dostępu do urządzeń IO, a w drugim przypadku od szybkości procesora."
   ]
  },
  {
   "cell_type": "code",
   "execution_count": 7,
   "metadata": {},
   "outputs": [],
   "source": [
    "import random\n",
    "import string\n",
    "import time\n",
    "\n",
    "def io_heavy(text):\n",
    "    f = open('temp_file.txt', 'wt', encoding='utf-8')\n",
    "    f.write(text)\n",
    "    f.close()\n",
    "    return\n",
    "\n",
    "def cpu_heavy(n):\n",
    "    start = time.time()\n",
    "    count = 0\n",
    "    for i in range(n):\n",
    "        count += i\n",
    "    stop = time.time()\n",
    "    return\n",
    "\n",
    "def run_series_cpu(n, iterations = 10):\n",
    "    start = time.time()\n",
    "    for i in range(iterations):\n",
    "        cpu_heavy(n)\n",
    "    stop = time.time()\n",
    "    \n",
    "    return stop - start\n",
    "\n",
    "def run_series(text_size, iterations):\n",
    "    TEXT = ''.join(random.choice(string.ascii_lowercase) for i in range(text_size))\n",
    "    \n",
    "    start = time.time()\n",
    "    for i in range(iterations):\n",
    "        io_heavy(TEXT)\n",
    "    stop = time.time()\n",
    "    \n",
    "    return stop - start"
   ]
  },
  {
   "cell_type": "markdown",
   "metadata": {},
   "source": [
    "Czas obliczeń operacji jest ściśle zależny od mocy obliczeniowej komputera, na którym są one wykonywane."
   ]
  },
  {
   "cell_type": "markdown",
   "metadata": {},
   "source": [
    "**Specyfikacja komputera na którym prowadzone są testy**\n",
    "- Nazwa systemu operacyjnego: Microsoft Windows 11 Home\n",
    "- Model systemu: Katana GF76 11UD\n",
    "- Typ systemu: x64-based PC\n",
    "- Jednostka magazynowa systemu:17L2.3\n",
    "- Kontrolery IDE ATA/ATAPI: Standardowy kontroler SATA AHCI\n",
    "- Procesor: 11th Gen Intel(R) Core(TM) i7-11800 @ 2.30GHz 2304 MHz, Rdzenie: 8, Procesory logiczne: 16\n",
    "- Karta graficzna: NVIDIA GeForce RTX 3050 Ti Laptop GPU\n",
    "- Wersja SMBIOS: 3.3\n",
    "- Wersja kontrolera osadzonego: 255.255\n",
    "- Tryb systemu BIOS : UEFI\n",
    "- Produkt płyty głownej: MS-17L2\n",
    "- Wersja płyty głównej: REV:1.0\n",
    "= Zainstalowana pamięć RAM: 32.0 GB"
   ]
  },
  {
   "cell_type": "markdown",
   "metadata": {},
   "source": [
    "Uzupełnij poniższy kod tak by zebrać czasy wykonania operacji *cpu\\_heavy* dla różnych n. Wyniki powinny być zapisane w tablicach *training_x* oraz *training_y*.\n",
    "\n",
    "Korzystamy z funkcji *run\\_series\\_cpu(n)*.\n",
    "\n",
    "TRAINING_N - ilość danych uczących; długość tablic *training_x* oraz *training_y*.\n"
   ]
  },
  {
   "cell_type": "code",
   "execution_count": 8,
   "metadata": {},
   "outputs": [],
   "source": [
    "CPU_MAX_N = 1000000\n",
    "\n",
    "TRAINING_N = 50\n",
    "\n",
    "training_x = []\n",
    "training_y = []\n",
    "\n",
    "for i in range(TRAINING_N):\n",
    "    CPU_N = random.randrange(CPU_MAX_N)\n",
    "    execution_time = run_series_cpu(CPU_N)\n",
    "    training_x.append([CPU_N])\n",
    "    training_y.append(execution_time)"
   ]
  },
  {
   "cell_type": "markdown",
   "metadata": {},
   "source": [
    "Przedstaw wykres zależności pomiędzy ilością iteracji obliczeń a czasem wykonania operacji *run\\_series\\_cpu*."
   ]
  },
  {
   "cell_type": "code",
   "execution_count": 9,
   "metadata": {},
   "outputs": [
    {
     "data": {
      "image/png": "[encoded data removed]",
      "text/plain": [
       "<Figure size 432x288 with 1 Axes>"
      ]
     },
     "metadata": {
      "needs_background": "light"
     },
     "output_type": "display_data"
    }
   ],
   "source": [
    "plt.scatter(training_x, training_y, color='black')\n",
    "plt.show()"
   ]
  },
  {
   "cell_type": "markdown",
   "metadata": {},
   "source": [
    "Naucz model regresji na danych treningowych."
   ]
  },
  {
   "cell_type": "code",
   "execution_count": 10,
   "metadata": {},
   "outputs": [
    {
     "data": {
      "text/plain": [
       "LinearRegression()"
      ]
     },
     "execution_count": 10,
     "metadata": {},
     "output_type": "execute_result"
    }
   ],
   "source": [
    "# Create linear regression object\n",
    "regr = linear_model.LinearRegression()\n",
    "\n",
    "# Train the model using the training sets\n",
    "regr.fit(training_x, training_y)"
   ]
  },
  {
   "cell_type": "markdown",
   "metadata": {},
   "source": [
    "Wypisz szczegóły nauczonego modelu regresji, a następnie przedstaw na wykresie zidentyfikowana funkcję liniową odzwierciedlającą zależności w danych."
   ]
  },
  {
   "cell_type": "code",
   "execution_count": 11,
   "metadata": {},
   "outputs": [
    {
     "name": "stdout",
     "output_type": "stream",
     "text": [
      "Coefficients: \n",
      " [3.43914423e-07]\n",
      "Intercept: \n",
      " -0.0009323327460082631\n",
      "Mean squared error: 0.00\n",
      "Variance score: 1.00\n"
     ]
    },
    {
     "data": {
      "image/png": "[encoded data removed]",
      "text/plain": [
       "<Figure size 432x288 with 1 Axes>"
      ]
     },
     "metadata": {
      "needs_background": "light"
     },
     "output_type": "display_data"
    }
   ],
   "source": [
    "# Make predictions using the testing set\n",
    "training_y_pred = regr.predict(training_x)\n",
    "\n",
    "# The coefficients\n",
    "print('Coefficients: \\n', regr.coef_)\n",
    "print('Intercept: \\n', regr.intercept_)\n",
    "# The mean squared error\n",
    "print(\"Mean squared error: %.2f\"\n",
    "      % mean_squared_error(training_y, training_y_pred))\n",
    "# Explained variance score: 1 is perfect prediction\n",
    "print('Variance score: %.2f' % r2_score(training_y, training_y_pred))\n",
    "\n",
    "plt.scatter(training_x, training_y,  color='black')\n",
    "plt.plot(training_x, training_y_pred, color='blue', linewidth=3)\n",
    "\n",
    "plt.show()"
   ]
  },
  {
   "cell_type": "markdown",
   "metadata": {},
   "source": [
    "Na podstawie opracowanego modelu zaimplementuj funkcję szacującą czas działania procesu *cpu intensive*."
   ]
  },
  {
   "cell_type": "code",
   "execution_count": 12,
   "metadata": {},
   "outputs": [],
   "source": [
    "#testing data\n",
    "\n",
    "def run_series_cpu_predicted_time(n):\n",
    "    return regr.predict([[n]])[0]\n"
   ]
  },
  {
   "cell_type": "markdown",
   "metadata": {},
   "source": [
    "Na podstawie współczynników _coef_ oraz _intercept_  z wyuczonego modelu przedstaw funkcję matematyczną szacującą czas działania procesu *cpu intensive*.\n",
    "\n",
    "Przydatne informacje: https://scikit-learn.org/stable/modules/linear_model.html#linear-model"
   ]
  },
  {
   "cell_type": "code",
   "execution_count": 13,
   "metadata": {},
   "outputs": [
    {
     "name": "stdout",
     "output_type": "stream",
     "text": [
      "Coefficient: \n",
      " 3.4391442301344974e-07\n",
      "Intercept: \n",
      " -0.0009323327460082631\n"
     ]
    }
   ],
   "source": [
    "coef = regr.coef_[0]\n",
    "intercept = regr.intercept_\n",
    "\n",
    "print('Coefficient: \\n', coef)\n",
    "print('Intercept: \\n', intercept)"
   ]
  },
  {
   "cell_type": "code",
   "execution_count": 14,
   "metadata": {},
   "outputs": [],
   "source": [
    "def predicted_time(n):\n",
    "    return intercept + coef * n"
   ]
  },
  {
   "cell_type": "code",
   "execution_count": 15,
   "metadata": {},
   "outputs": [],
   "source": [
    "def run_series_cpu_predicted_time_linear_function(n):\n",
    "    return predicted_time(n)"
   ]
  },
  {
   "cell_type": "markdown",
   "metadata": {},
   "source": [
    "Wykonaj poniższe operacje i porównaj wyniki."
   ]
  },
  {
   "cell_type": "code",
   "execution_count": 16,
   "metadata": {},
   "outputs": [
    {
     "name": "stdout",
     "output_type": "stream",
     "text": [
      "Test 1:  1.4897100925445557  Predicted: 1.38573165258749  Predicted2: 1.38573165258749\n",
      "Test 2:  0.017461061477661133  Predicted: 0.017742220423622057  Predicted2: 0.017742220423622057\n",
      "Test 3:  0.27464818954467773  Predicted: 0.26230079837175524  Predicted2: 0.26230079837175524\n",
      "Test 4:  0.030591249465942383  Predicted: 0.028187933193809567  Predicted2: 0.028187933193809567\n",
      "Test 5:  2.0081589221954346  Predicted: 1.8687838776339143  Predicted2: 1.8687838776339143\n"
     ]
    }
   ],
   "source": [
    "print(\"Test 1: \",run_series_cpu(4032003),\" Predicted:\", run_series_cpu_predicted_time(4032003),\" Predicted2:\", run_series_cpu_predicted_time_linear_function(4032003))\n",
    "print(\"Test 2: \",run_series_cpu(54300),\" Predicted:\", run_series_cpu_predicted_time(54300),\" Predicted2:\", run_series_cpu_predicted_time_linear_function(54300))\n",
    "print(\"Test 3: \",run_series_cpu(765403),\" Predicted:\", run_series_cpu_predicted_time(765403),\" Predicted2:\", run_series_cpu_predicted_time_linear_function(765403))\n",
    "print(\"Test 4: \",run_series_cpu(84673),\" Predicted:\", run_series_cpu_predicted_time(84673),\" Predicted2:\", run_series_cpu_predicted_time_linear_function(84673))\n",
    "print(\"Test 5: \",run_series_cpu(5436574),\" Predicted:\", run_series_cpu_predicted_time(5436574),\" Predicted2:\", run_series_cpu_predicted_time_linear_function(5436574))\n"
   ]
  },
  {
   "cell_type": "markdown",
   "metadata": {},
   "source": [
    "# Przydatne źródła\n",
    "\n",
    "https://github.com/bfortuner/ml-study/blob/master/multitasking_python.ipynb"
   ]
  }
 ],
 "metadata": {
  "kernelspec": {
   "display_name": "Python 3 (ipykernel)",
   "language": "python",
   "name": "python3"
  },
  "language_info": {
   "codemirror_mode": {
    "name": "ipython",
    "version": 3
   },
   "file_extension": ".py",
   "mimetype": "text/x-python",
   "name": "python",
   "nbconvert_exporter": "python",
   "pygments_lexer": "ipython3",
   "version": "3.9.7"
  }
 },
 "nbformat": 4,
 "nbformat_minor": 2
}
